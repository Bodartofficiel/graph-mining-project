{
 "cells": [
  {
   "cell_type": "markdown",
   "id": "a770a815",
   "metadata": {},
   "source": [
    "# 0. Imports"
   ]
  },
  {
   "cell_type": "code",
   "execution_count": 1,
   "id": "f524c22e",
   "metadata": {},
   "outputs": [],
   "source": [
    "import numpy as np\n",
    "import torch\n",
    "import torch.nn as nn\n",
    "from torch_geometric.utils.convert import from_networkx\n"
   ]
  },
  {
   "cell_type": "code",
   "execution_count": 2,
   "id": "758aba25",
   "metadata": {},
   "outputs": [
    {
     "name": "stdout",
     "output_type": "stream",
     "text": [
      "Graph with 28281 nodes and 92752 edges\n",
      "Graph with 7624 nodes and 27806 edges\n"
     ]
    }
   ],
   "source": [
    "from graph_analysis.get_graphs import lastfm_graph, deezer_graph\n",
    "\n",
    "# Node : person. Edge : follow relationship. Features : likes.\n",
    "print(deezer_graph) # Target : gender\n",
    "print(lastfm_graph) # Target : country"
   ]
  },
  {
   "cell_type": "markdown",
   "id": "eb083f12",
   "metadata": {},
   "source": [
    "# 1. Embedding"
   ]
  },
  {
   "cell_type": "code",
   "execution_count": 3,
   "id": "c65a3b26",
   "metadata": {},
   "outputs": [
    {
     "name": "stdout",
     "output_type": "stream",
     "text": [
      "tensor([[-0.8529, -0.9701,  0.6632,  ..., -0.6114, -0.1813, -0.5893],\n",
      "        [ 0.6530, -0.2802,  1.3212,  ..., -1.7342,  1.8870, -2.2688],\n",
      "        [-1.1312,  0.5407, -1.6709,  ...,  0.1466, -0.3819,  1.5631],\n",
      "        ...,\n",
      "        [-1.0725,  0.2571,  1.1380,  ...,  0.2480, -0.3074,  1.3957],\n",
      "        [-1.0725,  0.2571,  1.1380,  ...,  0.2480, -0.3074,  1.3957],\n",
      "        [-1.0725,  0.2571,  1.1380,  ...,  0.2480, -0.3074,  1.3957]])\n"
     ]
    }
   ],
   "source": [
    "print(deezer_graph.nodes[0][\"feat\"])"
   ]
  },
  {
   "cell_type": "markdown",
   "id": "4cfcdfde",
   "metadata": {},
   "source": [
    "# 1. GNN"
   ]
  },
  {
   "cell_type": "code",
   "execution_count": 3,
   "id": "ad2f094a",
   "metadata": {},
   "outputs": [
    {
     "ename": "KeyboardInterrupt",
     "evalue": "",
     "output_type": "error",
     "traceback": [
      "\u001b[1;31m---------------------------------------------------------------------------\u001b[0m",
      "\u001b[1;31mKeyboardInterrupt\u001b[0m                         Traceback (most recent call last)",
      "Cell \u001b[1;32mIn[3], line 2\u001b[0m\n\u001b[0;32m      1\u001b[0m \u001b[38;5;66;03m# Convert the graph into PyTorch geometric\u001b[39;00m\n\u001b[1;32m----> 2\u001b[0m pyg_graph \u001b[38;5;241m=\u001b[39m \u001b[43mfrom_networkx\u001b[49m\u001b[43m(\u001b[49m\u001b[43mdeezer_graph\u001b[49m\u001b[43m)\u001b[49m\n\u001b[0;32m      4\u001b[0m \u001b[38;5;28mprint\u001b[39m(\u001b[38;5;124m\"\u001b[39m\u001b[38;5;124mGraph:\u001b[39m\u001b[38;5;124m\"\u001b[39m, pyg_graph)\n\u001b[0;32m      5\u001b[0m \u001b[38;5;28mprint\u001b[39m(\u001b[38;5;124m\"\u001b[39m\u001b[38;5;124mFeatures:\u001b[39m\u001b[38;5;124m\"\u001b[39m, pyg_graph\u001b[38;5;241m.\u001b[39mfeat[:\u001b[38;5;241m5\u001b[39m])\n",
      "File \u001b[1;32mc:\\Users\\clemv\\AppData\\Local\\Programs\\Python\\Python311\\Lib\\site-packages\\torch_geometric\\utils\\convert.py:229\u001b[0m, in \u001b[0;36mfrom_networkx\u001b[1;34m(G, group_node_attrs, group_edge_attrs)\u001b[0m\n\u001b[0;32m    225\u001b[0m \u001b[38;5;28;01mimport\u001b[39;00m \u001b[38;5;21;01mnetworkx\u001b[39;00m \u001b[38;5;28;01mas\u001b[39;00m \u001b[38;5;21;01mnx\u001b[39;00m\n\u001b[0;32m    227\u001b[0m \u001b[38;5;28;01mfrom\u001b[39;00m \u001b[38;5;21;01mtorch_geometric\u001b[39;00m\u001b[38;5;21;01m.\u001b[39;00m\u001b[38;5;21;01mdata\u001b[39;00m \u001b[38;5;28;01mimport\u001b[39;00m Data\n\u001b[1;32m--> 229\u001b[0m G \u001b[38;5;241m=\u001b[39m \u001b[43mG\u001b[49m\u001b[38;5;241;43m.\u001b[39;49m\u001b[43mto_directed\u001b[49m\u001b[43m(\u001b[49m\u001b[43m)\u001b[49m \u001b[38;5;28;01mif\u001b[39;00m \u001b[38;5;129;01mnot\u001b[39;00m nx\u001b[38;5;241m.\u001b[39mis_directed(G) \u001b[38;5;28;01melse\u001b[39;00m G\n\u001b[0;32m    231\u001b[0m mapping \u001b[38;5;241m=\u001b[39m \u001b[38;5;28mdict\u001b[39m(\u001b[38;5;28mzip\u001b[39m(G\u001b[38;5;241m.\u001b[39mnodes(), \u001b[38;5;28mrange\u001b[39m(G\u001b[38;5;241m.\u001b[39mnumber_of_nodes())))\n\u001b[0;32m    232\u001b[0m edge_index \u001b[38;5;241m=\u001b[39m torch\u001b[38;5;241m.\u001b[39mempty((\u001b[38;5;241m2\u001b[39m, G\u001b[38;5;241m.\u001b[39mnumber_of_edges()), dtype\u001b[38;5;241m=\u001b[39mtorch\u001b[38;5;241m.\u001b[39mlong)\n",
      "File \u001b[1;32mc:\\Users\\clemv\\AppData\\Local\\Programs\\Python\\Python311\\Lib\\site-packages\\networkx\\classes\\graph.py:1718\u001b[0m, in \u001b[0;36mGraph.to_directed\u001b[1;34m(self, as_view)\u001b[0m\n\u001b[0;32m   1716\u001b[0m G \u001b[38;5;241m=\u001b[39m graph_class()\n\u001b[0;32m   1717\u001b[0m G\u001b[38;5;241m.\u001b[39mgraph\u001b[38;5;241m.\u001b[39mupdate(deepcopy(\u001b[38;5;28mself\u001b[39m\u001b[38;5;241m.\u001b[39mgraph))\n\u001b[1;32m-> 1718\u001b[0m \u001b[43mG\u001b[49m\u001b[38;5;241;43m.\u001b[39;49m\u001b[43madd_nodes_from\u001b[49m\u001b[43m(\u001b[49m\u001b[43m(\u001b[49m\u001b[43mn\u001b[49m\u001b[43m,\u001b[49m\u001b[43m \u001b[49m\u001b[43mdeepcopy\u001b[49m\u001b[43m(\u001b[49m\u001b[43md\u001b[49m\u001b[43m)\u001b[49m\u001b[43m)\u001b[49m\u001b[43m \u001b[49m\u001b[38;5;28;43;01mfor\u001b[39;49;00m\u001b[43m \u001b[49m\u001b[43mn\u001b[49m\u001b[43m,\u001b[49m\u001b[43m \u001b[49m\u001b[43md\u001b[49m\u001b[43m \u001b[49m\u001b[38;5;129;43;01min\u001b[39;49;00m\u001b[43m \u001b[49m\u001b[38;5;28;43mself\u001b[39;49m\u001b[38;5;241;43m.\u001b[39;49m\u001b[43m_node\u001b[49m\u001b[38;5;241;43m.\u001b[39;49m\u001b[43mitems\u001b[49m\u001b[43m(\u001b[49m\u001b[43m)\u001b[49m\u001b[43m)\u001b[49m\n\u001b[0;32m   1719\u001b[0m G\u001b[38;5;241m.\u001b[39madd_edges_from(\n\u001b[0;32m   1720\u001b[0m     (u, v, deepcopy(data))\n\u001b[0;32m   1721\u001b[0m     \u001b[38;5;28;01mfor\u001b[39;00m u, nbrs \u001b[38;5;129;01min\u001b[39;00m \u001b[38;5;28mself\u001b[39m\u001b[38;5;241m.\u001b[39m_adj\u001b[38;5;241m.\u001b[39mitems()\n\u001b[0;32m   1722\u001b[0m     \u001b[38;5;28;01mfor\u001b[39;00m v, data \u001b[38;5;129;01min\u001b[39;00m nbrs\u001b[38;5;241m.\u001b[39mitems()\n\u001b[0;32m   1723\u001b[0m )\n\u001b[0;32m   1724\u001b[0m \u001b[38;5;28;01mreturn\u001b[39;00m G\n",
      "File \u001b[1;32mc:\\Users\\clemv\\AppData\\Local\\Programs\\Python\\Python311\\Lib\\site-packages\\networkx\\classes\\digraph.py:550\u001b[0m, in \u001b[0;36mDiGraph.add_nodes_from\u001b[1;34m(self, nodes_for_adding, **attr)\u001b[0m\n\u001b[0;32m    489\u001b[0m \u001b[38;5;28;01mdef\u001b[39;00m \u001b[38;5;21madd_nodes_from\u001b[39m(\u001b[38;5;28mself\u001b[39m, nodes_for_adding, \u001b[38;5;241m*\u001b[39m\u001b[38;5;241m*\u001b[39mattr):\n\u001b[0;32m    490\u001b[0m \u001b[38;5;250m    \u001b[39m\u001b[38;5;124;03m\"\"\"Add multiple nodes.\u001b[39;00m\n\u001b[0;32m    491\u001b[0m \n\u001b[0;32m    492\u001b[0m \u001b[38;5;124;03m    Parameters\u001b[39;00m\n\u001b[1;32m   (...)\u001b[0m\n\u001b[0;32m    548\u001b[0m \u001b[38;5;124;03m    >>> G.add_nodes_from(list(n + 1 for n in G.nodes))\u001b[39;00m\n\u001b[0;32m    549\u001b[0m \u001b[38;5;124;03m    \"\"\"\u001b[39;00m\n\u001b[1;32m--> 550\u001b[0m     \u001b[38;5;28;01mfor\u001b[39;00m n \u001b[38;5;129;01min\u001b[39;00m nodes_for_adding:\n\u001b[0;32m    551\u001b[0m         \u001b[38;5;28;01mtry\u001b[39;00m:\n\u001b[0;32m    552\u001b[0m             newnode \u001b[38;5;241m=\u001b[39m n \u001b[38;5;129;01mnot\u001b[39;00m \u001b[38;5;129;01min\u001b[39;00m \u001b[38;5;28mself\u001b[39m\u001b[38;5;241m.\u001b[39m_node\n",
      "File \u001b[1;32mc:\\Users\\clemv\\AppData\\Local\\Programs\\Python\\Python311\\Lib\\site-packages\\networkx\\classes\\graph.py:1718\u001b[0m, in \u001b[0;36m<genexpr>\u001b[1;34m(.0)\u001b[0m\n\u001b[0;32m   1716\u001b[0m G \u001b[38;5;241m=\u001b[39m graph_class()\n\u001b[0;32m   1717\u001b[0m G\u001b[38;5;241m.\u001b[39mgraph\u001b[38;5;241m.\u001b[39mupdate(deepcopy(\u001b[38;5;28mself\u001b[39m\u001b[38;5;241m.\u001b[39mgraph))\n\u001b[1;32m-> 1718\u001b[0m G\u001b[38;5;241m.\u001b[39madd_nodes_from((n, \u001b[43mdeepcopy\u001b[49m\u001b[43m(\u001b[49m\u001b[43md\u001b[49m\u001b[43m)\u001b[49m) \u001b[38;5;28;01mfor\u001b[39;00m n, d \u001b[38;5;129;01min\u001b[39;00m \u001b[38;5;28mself\u001b[39m\u001b[38;5;241m.\u001b[39m_node\u001b[38;5;241m.\u001b[39mitems())\n\u001b[0;32m   1719\u001b[0m G\u001b[38;5;241m.\u001b[39madd_edges_from(\n\u001b[0;32m   1720\u001b[0m     (u, v, deepcopy(data))\n\u001b[0;32m   1721\u001b[0m     \u001b[38;5;28;01mfor\u001b[39;00m u, nbrs \u001b[38;5;129;01min\u001b[39;00m \u001b[38;5;28mself\u001b[39m\u001b[38;5;241m.\u001b[39m_adj\u001b[38;5;241m.\u001b[39mitems()\n\u001b[0;32m   1722\u001b[0m     \u001b[38;5;28;01mfor\u001b[39;00m v, data \u001b[38;5;129;01min\u001b[39;00m nbrs\u001b[38;5;241m.\u001b[39mitems()\n\u001b[0;32m   1723\u001b[0m )\n\u001b[0;32m   1724\u001b[0m \u001b[38;5;28;01mreturn\u001b[39;00m G\n",
      "File \u001b[1;32mc:\\Users\\clemv\\AppData\\Local\\Programs\\Python\\Python311\\Lib\\copy.py:146\u001b[0m, in \u001b[0;36mdeepcopy\u001b[1;34m(x, memo, _nil)\u001b[0m\n\u001b[0;32m    144\u001b[0m copier \u001b[38;5;241m=\u001b[39m _deepcopy_dispatch\u001b[38;5;241m.\u001b[39mget(\u001b[38;5;28mcls\u001b[39m)\n\u001b[0;32m    145\u001b[0m \u001b[38;5;28;01mif\u001b[39;00m copier \u001b[38;5;129;01mis\u001b[39;00m \u001b[38;5;129;01mnot\u001b[39;00m \u001b[38;5;28;01mNone\u001b[39;00m:\n\u001b[1;32m--> 146\u001b[0m     y \u001b[38;5;241m=\u001b[39m \u001b[43mcopier\u001b[49m\u001b[43m(\u001b[49m\u001b[43mx\u001b[49m\u001b[43m,\u001b[49m\u001b[43m \u001b[49m\u001b[43mmemo\u001b[49m\u001b[43m)\u001b[49m\n\u001b[0;32m    147\u001b[0m \u001b[38;5;28;01melse\u001b[39;00m:\n\u001b[0;32m    148\u001b[0m     \u001b[38;5;28;01mif\u001b[39;00m \u001b[38;5;28missubclass\u001b[39m(\u001b[38;5;28mcls\u001b[39m, \u001b[38;5;28mtype\u001b[39m):\n",
      "File \u001b[1;32mc:\\Users\\clemv\\AppData\\Local\\Programs\\Python\\Python311\\Lib\\copy.py:231\u001b[0m, in \u001b[0;36m_deepcopy_dict\u001b[1;34m(x, memo, deepcopy)\u001b[0m\n\u001b[0;32m    229\u001b[0m memo[\u001b[38;5;28mid\u001b[39m(x)] \u001b[38;5;241m=\u001b[39m y\n\u001b[0;32m    230\u001b[0m \u001b[38;5;28;01mfor\u001b[39;00m key, value \u001b[38;5;129;01min\u001b[39;00m x\u001b[38;5;241m.\u001b[39mitems():\n\u001b[1;32m--> 231\u001b[0m     y[deepcopy(key, memo)] \u001b[38;5;241m=\u001b[39m \u001b[43mdeepcopy\u001b[49m\u001b[43m(\u001b[49m\u001b[43mvalue\u001b[49m\u001b[43m,\u001b[49m\u001b[43m \u001b[49m\u001b[43mmemo\u001b[49m\u001b[43m)\u001b[49m\n\u001b[0;32m    232\u001b[0m \u001b[38;5;28;01mreturn\u001b[39;00m y\n",
      "File \u001b[1;32mc:\\Users\\clemv\\AppData\\Local\\Programs\\Python\\Python311\\Lib\\copy.py:137\u001b[0m, in \u001b[0;36mdeepcopy\u001b[1;34m(x, memo, _nil)\u001b[0m\n\u001b[0;32m    134\u001b[0m \u001b[38;5;28;01mif\u001b[39;00m memo \u001b[38;5;129;01mis\u001b[39;00m \u001b[38;5;28;01mNone\u001b[39;00m:\n\u001b[0;32m    135\u001b[0m     memo \u001b[38;5;241m=\u001b[39m {}\n\u001b[1;32m--> 137\u001b[0m d \u001b[38;5;241m=\u001b[39m \u001b[38;5;28mid\u001b[39m(x)\n\u001b[0;32m    138\u001b[0m y \u001b[38;5;241m=\u001b[39m memo\u001b[38;5;241m.\u001b[39mget(d, _nil)\n\u001b[0;32m    139\u001b[0m \u001b[38;5;28;01mif\u001b[39;00m y \u001b[38;5;129;01mis\u001b[39;00m \u001b[38;5;129;01mnot\u001b[39;00m _nil:\n",
      "\u001b[1;31mKeyboardInterrupt\u001b[0m: "
     ]
    }
   ],
   "source": [
    "# Convert the graph into PyTorch geometric\n",
    "pyg_graph = from_networkx(deezer_graph)\n",
    "\n",
    "print(\"Graph:\", pyg_graph)\n",
    "print(\"Features:\", pyg_graph.feat[:5])\n",
    "print(\"Target:\", pyg_graph.target[:5])\n",
    "print(\"Edge index:\", pyg_graph.edge_index)"
   ]
  },
  {
   "cell_type": "code",
   "execution_count": null,
   "id": "9de1048e",
   "metadata": {},
   "outputs": [
    {
     "ename": "AttributeError",
     "evalue": "'list' object has no attribute 'shape'",
     "output_type": "error",
     "traceback": [
      "\u001b[1;31m---------------------------------------------------------------------------\u001b[0m",
      "\u001b[1;31mAttributeError\u001b[0m                            Traceback (most recent call last)",
      "Cell \u001b[1;32mIn[7], line 3\u001b[0m\n\u001b[0;32m      1\u001b[0m \u001b[38;5;66;03m# Split the data \u001b[39;00m\n\u001b[0;32m      2\u001b[0m train_ratio \u001b[38;5;241m=\u001b[39m \u001b[38;5;241m0.2\u001b[39m\n\u001b[1;32m----> 3\u001b[0m num_nodes \u001b[38;5;241m=\u001b[39m \u001b[43mpyg_graph\u001b[49m\u001b[38;5;241;43m.\u001b[39;49m\u001b[43mfeat\u001b[49m\u001b[38;5;241;43m.\u001b[39;49m\u001b[43mshape\u001b[49m[\u001b[38;5;241m0\u001b[39m]\n\u001b[0;32m      4\u001b[0m num_train \u001b[38;5;241m=\u001b[39m \u001b[38;5;28mint\u001b[39m(num_nodes \u001b[38;5;241m*\u001b[39m train_ratio)\n\u001b[0;32m      5\u001b[0m idx \u001b[38;5;241m=\u001b[39m [i \u001b[38;5;28;01mfor\u001b[39;00m i \u001b[38;5;129;01min\u001b[39;00m \u001b[38;5;28mrange\u001b[39m(num_nodes)]\n",
      "\u001b[1;31mAttributeError\u001b[0m: 'list' object has no attribute 'shape'"
     ]
    }
   ],
   "source": [
    "# Split the data \n",
    "train_ratio = 0.2\n",
    "num_nodes = pyg_graph.feat.shape[0]\n",
    "num_train = int(num_nodes * train_ratio)\n",
    "idx = [i for i in range(num_nodes)]\n",
    "\n",
    "np.random.shuffle(idx)\n",
    "train_mask = torch.full_like(pyg_graph.target, False, dtype=bool)\n",
    "train_mask[idx[:num_train]] = True\n",
    "test_mask = torch.full_like(pyg_graph.target, False, dtype=bool)\n",
    "test_mask[idx[num_train:]] = True\n",
    "\n",
    "print(train_mask)\n",
    "# tensor([ True, False, False, False, False])\n",
    "print(test_mask)\n",
    "# tensor([False,  True,  True,  True,  True])"
   ]
  }
 ],
 "metadata": {
  "kernelspec": {
   "display_name": "Python 3",
   "language": "python",
   "name": "python3"
  },
  "language_info": {
   "codemirror_mode": {
    "name": "ipython",
    "version": 3
   },
   "file_extension": ".py",
   "mimetype": "text/x-python",
   "name": "python",
   "nbconvert_exporter": "python",
   "pygments_lexer": "ipython3",
   "version": "3.11.2"
  }
 },
 "nbformat": 4,
 "nbformat_minor": 5
}
