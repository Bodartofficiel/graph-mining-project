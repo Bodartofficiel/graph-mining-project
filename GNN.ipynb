{
 "cells": [
  {
   "cell_type": "markdown",
   "id": "a770a815",
   "metadata": {},
   "source": [
    "# 0. Imports"
   ]
  },
  {
   "cell_type": "code",
   "execution_count": 1,
   "id": "f524c22e",
   "metadata": {},
   "outputs": [],
   "source": [
    "import numpy as np\n",
    "import torch\n",
    "from torch_geometric.utils.convert import from_networkx"
   ]
  },
  {
   "cell_type": "code",
   "execution_count": 2,
   "id": "758aba25",
   "metadata": {},
   "outputs": [
    {
     "name": "stdout",
     "output_type": "stream",
     "text": [
      "Graph with 28281 nodes and 92752 edges\n",
      "Graph with 7624 nodes and 27806 edges\n"
     ]
    }
   ],
   "source": [
    "from graph_analysis.get_graphs import lastfm_graph, deezer_graph\n",
    "\n",
    "# Node : person. Edge : follow relationship. Features : likes.\n",
    "print(deezer_graph) # Target : gender\n",
    "print(lastfm_graph) # Target : country"
   ]
  },
  {
   "cell_type": "markdown",
   "id": "4cfcdfde",
   "metadata": {},
   "source": [
    "# 1. GNN"
   ]
  },
  {
   "cell_type": "code",
   "execution_count": null,
   "id": "ad2f094a",
   "metadata": {},
   "outputs": [
    {
     "name": "stdout",
     "output_type": "stream",
     "text": [
      "Graph: Data(edge_index=[2, 185504], feat=[28281], target=[28281], num_nodes=28281)\n"
     ]
    },
    {
     "ename": "ValueError",
     "evalue": "expected sequence of length 64 at dim 1 (got 3)",
     "output_type": "error",
     "traceback": [
      "\u001b[1;31m---------------------------------------------------------------------------\u001b[0m",
      "\u001b[1;31mValueError\u001b[0m                                Traceback (most recent call last)",
      "Cell \u001b[1;32mIn[10], line 5\u001b[0m\n\u001b[0;32m      2\u001b[0m pyg_graph \u001b[38;5;241m=\u001b[39m from_networkx(deezer_graph)\n\u001b[0;32m      4\u001b[0m \u001b[38;5;28mprint\u001b[39m(\u001b[38;5;124m\"\u001b[39m\u001b[38;5;124mGraph:\u001b[39m\u001b[38;5;124m\"\u001b[39m, pyg_graph)\n\u001b[1;32m----> 5\u001b[0m pyg_graph\u001b[38;5;241m.\u001b[39mfeat \u001b[38;5;241m=\u001b[39m \u001b[43mtorch\u001b[49m\u001b[38;5;241;43m.\u001b[39;49m\u001b[43mtensor\u001b[49m\u001b[43m(\u001b[49m\u001b[43mpyg_graph\u001b[49m\u001b[38;5;241;43m.\u001b[39;49m\u001b[43mfeat\u001b[49m\u001b[43m,\u001b[49m\u001b[43m \u001b[49m\u001b[43mdtype\u001b[49m\u001b[38;5;241;43m=\u001b[39;49m\u001b[43mtorch\u001b[49m\u001b[38;5;241;43m.\u001b[39;49m\u001b[43mint\u001b[49m\u001b[43m)\u001b[49m\n\u001b[0;32m      6\u001b[0m \u001b[38;5;28mprint\u001b[39m(\u001b[38;5;124m\"\u001b[39m\u001b[38;5;124mFeatures:\u001b[39m\u001b[38;5;124m\"\u001b[39m, pyg_graph\u001b[38;5;241m.\u001b[39mfeat[:\u001b[38;5;241m5\u001b[39m])\n\u001b[0;32m      7\u001b[0m \u001b[38;5;28mprint\u001b[39m(\u001b[38;5;124m\"\u001b[39m\u001b[38;5;124mTarget:\u001b[39m\u001b[38;5;124m\"\u001b[39m, pyg_graph\u001b[38;5;241m.\u001b[39mtarget[:\u001b[38;5;241m5\u001b[39m])\n",
      "\u001b[1;31mValueError\u001b[0m: expected sequence of length 64 at dim 1 (got 3)"
     ]
    }
   ],
   "source": [
    "# Convert the graph into PyTorch geometric\n",
    "pyg_graph = from_networkx(deezer_graph)\n",
    "\n",
    "print(\"Graph:\", pyg_graph)\n",
    "print(\"Features:\", pyg_graph.feat[:5])\n",
    "print(\"Target:\", pyg_graph.target[:5])\n",
    "print(\"Edge index:\", pyg_graph.edge_index)"
   ]
  },
  {
   "cell_type": "code",
   "execution_count": 7,
   "id": "9de1048e",
   "metadata": {},
   "outputs": [
    {
     "ename": "AttributeError",
     "evalue": "'list' object has no attribute 'shape'",
     "output_type": "error",
     "traceback": [
      "\u001b[1;31m---------------------------------------------------------------------------\u001b[0m",
      "\u001b[1;31mAttributeError\u001b[0m                            Traceback (most recent call last)",
      "Cell \u001b[1;32mIn[7], line 3\u001b[0m\n\u001b[0;32m      1\u001b[0m \u001b[38;5;66;03m# Split the data \u001b[39;00m\n\u001b[0;32m      2\u001b[0m train_ratio \u001b[38;5;241m=\u001b[39m \u001b[38;5;241m0.2\u001b[39m\n\u001b[1;32m----> 3\u001b[0m num_nodes \u001b[38;5;241m=\u001b[39m \u001b[43mpyg_graph\u001b[49m\u001b[38;5;241;43m.\u001b[39;49m\u001b[43mfeat\u001b[49m\u001b[38;5;241;43m.\u001b[39;49m\u001b[43mshape\u001b[49m[\u001b[38;5;241m0\u001b[39m]\n\u001b[0;32m      4\u001b[0m num_train \u001b[38;5;241m=\u001b[39m \u001b[38;5;28mint\u001b[39m(num_nodes \u001b[38;5;241m*\u001b[39m train_ratio)\n\u001b[0;32m      5\u001b[0m idx \u001b[38;5;241m=\u001b[39m [i \u001b[38;5;28;01mfor\u001b[39;00m i \u001b[38;5;129;01min\u001b[39;00m \u001b[38;5;28mrange\u001b[39m(num_nodes)]\n",
      "\u001b[1;31mAttributeError\u001b[0m: 'list' object has no attribute 'shape'"
     ]
    }
   ],
   "source": [
    "# Split the data \n",
    "train_ratio = 0.2\n",
    "num_nodes = pyg_graph.feat.shape[0]\n",
    "num_train = int(num_nodes * train_ratio)\n",
    "idx = [i for i in range(num_nodes)]\n",
    "\n",
    "np.random.shuffle(idx)\n",
    "train_mask = torch.full_like(pyg_graph.target, False, dtype=bool)\n",
    "train_mask[idx[:num_train]] = True\n",
    "test_mask = torch.full_like(pyg_graph.target, False, dtype=bool)\n",
    "test_mask[idx[num_train:]] = True\n",
    "\n",
    "print(train_mask)\n",
    "# tensor([ True, False, False, False, False])\n",
    "print(test_mask)\n",
    "# tensor([False,  True,  True,  True,  True])"
   ]
  }
 ],
 "metadata": {
  "kernelspec": {
   "display_name": "Python 3",
   "language": "python",
   "name": "python3"
  },
  "language_info": {
   "codemirror_mode": {
    "name": "ipython",
    "version": 3
   },
   "file_extension": ".py",
   "mimetype": "text/x-python",
   "name": "python",
   "nbconvert_exporter": "python",
   "pygments_lexer": "ipython3",
   "version": "3.11.2"
  }
 },
 "nbformat": 4,
 "nbformat_minor": 5
}
