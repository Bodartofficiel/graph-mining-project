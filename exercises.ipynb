{
 "cells": [
  {
   "cell_type": "markdown",
   "metadata": {},
   "source": [
    "# Exercise 1"
   ]
  },
  {
   "cell_type": "markdown",
   "metadata": {},
   "source": [
    "We define:    \n",
    "- **The symmetrically normalized Laplacian**:\n",
    "> $L_{sym} = D^{-\\frac{1}{2}}LD^{-\\frac{1}{2}}$     \n",
    "- **The random walk Laplacian**:\n",
    ">$L_{rw} = D^{-1}L$     \n",
    "\n",
    "## Properties of the random walk Laplacian:\n",
    "> - Smallest eigenvalue is 0:    \n",
    ">   Let us compute $L_{rw}\\mathbf{1} = D^{-1}L\\mathbf{1} = D^{-1}\\mathbf{0} = \\mathbf{0}$    \n",
    ">   where $\\mathbf{1}$ is a column matrix with all entries equal to one.\n",
    "\n",
    "> - All eigenvalues are smaller than 2:     \n",
    ">   First, let us show that any eigenvalue of $D^{-1}A$ are between $-1$ and $1$:       \n",
    ">   For any eigenvector $X\\in\\mathcal{R}^n$ of $D^{-1}A$ of eigenvalue $\\lambda$, we can compute $|(D^{-1}AX)_{i_0}|$, where $i_0 = argmax_{i\\in[|0,n|]}|X_i| $       \n",
    ">   $|\\lambda X_{i_0}| = |(D^{-1}AX)_{i_0}| = | d_{ii}^{-1}\\sum_j a_{ij}X_j| ≤ d_{ii}\\sum_j a_{ij}|X_j| ≤ d_{ii}\\sum_j a{ij} |X_{i_0}| = |X_{i_0}|$\n",
    ">   So, $|\\lambda| ≤ 1$     \n",
    ">   We then have $L_{rw}X = X - D^{-1}AX = (1-\\lambda)X $ so any eigenvalue of $L_{rw}$ is between $0$ and $2$.     \n",
    "\n",
    "## Properties of the symmetrically normalized Laplacian:\n",
    "> - Symmetric:    \n",
    ">   $L_{sym}^T = (D^{-\\frac{1}{2}}LD^{-\\frac{1}{2}})^T = (D^{-\\frac{1}{2}})^T L^T (D^{-\\frac{1}{2}})^T = D^{-\\frac{1}{2}}LD^{-\\frac{1}{2}} = L_{sym}$    \n",
    ">   because $D^{-\\frac{1}{2}}$ and $L$ are symmetrical (iff the adjacency matrix is symmetrical *i.e* the graph is not oriented)     \n",
    "\n",
    "> - Positive semi-definite:    \n",
    ">   Let us consider $x\\in\\mathcal{R}^n$     \n",
    ">   $x^TL_{sym}x = (x^TD^{-\\frac{1}{2}})L(D^{-\\frac{1}{2}}x) = y^TLy$, with $y = D^{-\\frac{1}{2}}x\\in\\mathcal{R}^n$     \n",
    ">   Since $L$ is positive semi-definite, $L_{sym}$ is also positive semi-definite     \n",
    "\n",
    "> - The eigenvalues of $L_{rw}$ and $L_{sym}$ are the same:     \n",
    ">   Let us $X$ be an eigenvector of $L_{rw}$ of eigenvalue $\\lambda$. We have:      \n",
    ">   $\\lambda D^{\\frac{1}{2}}X =  D^{\\frac{1}{2}}L_{rw}X = D^{\\frac{1}{2}}D^{-1}LX = (D^{-\\frac{1}{2}}LD^{-\\frac{1}{2}})D^{\\frac{1}{2}}X = L_{sym}D^{\\frac{1}{2}}X $     \n",
    ">   So $D^{\\frac{1}{2}}X$ is an eigenvector of $L_{sym}$, of eigenvalue $\\lambda$\n",
    "\n"
   ]
  },
  {
   "cell_type": "markdown",
   "metadata": {},
   "source": [
    "# Exercise 2\n"
   ]
  }
 ],
 "metadata": {
  "language_info": {
   "name": "python"
  }
 },
 "nbformat": 4,
 "nbformat_minor": 2
}
